{
 "cells": [
  {
   "cell_type": "markdown",
   "id": "8bf783c5",
   "metadata": {},
   "source": [
    "# Access the CDLI datasets"
   ]
  },
  {
   "cell_type": "markdown",
   "id": "04e7389e",
   "metadata": {},
   "source": [
    "## Imports and Login to HF"
   ]
  },
  {
   "cell_type": "code",
   "execution_count": 2,
   "id": "a35cd82a",
   "metadata": {},
   "outputs": [],
   "source": [
    "import datasets\n",
    "from huggingface_hub import hf_hub_download\n",
    "from IPython.display import Audio, display\n",
    "import pandas as pd\n",
    "import itables"
   ]
  },
  {
   "cell_type": "code",
   "execution_count": 3,
   "id": "835a4550",
   "metadata": {},
   "outputs": [],
   "source": [
    "from huggingface_hub import login, whoami\n",
    "HF_TOKEN = input()\n",
    "login(token=HF_TOKEN)"
   ]
  },
  {
   "cell_type": "code",
   "execution_count": 4,
   "id": "ddcbefce",
   "metadata": {},
   "outputs": [
    {
     "data": {
      "text/plain": [
       "'Samuel Wanyua'"
      ]
     },
     "execution_count": 4,
     "metadata": {},
     "output_type": "execute_result"
    }
   ],
   "source": [
    "whoami()['fullname']"
   ]
  },
  {
   "cell_type": "markdown",
   "id": "8781ab6b",
   "metadata": {},
   "source": [
    "## Load the datasets\n",
    "\n",
    "While the datasets are public, you need to request access (and accept the Terms & Conditions). When done, you will be able to load the data here (otherwise this will cause an error).\n",
    "\n",
    "Dataset sites:\n",
    "\n",
    "* https://huggingface.co/datasets/cdli/kenyan_swahili_nonstandard_speech_v0\n",
    "* https://huggingface.co/datasets/cdli/kenyan_english_nonstandard_speech_v0\n"
   ]
  },
  {
   "cell_type": "markdown",
   "id": "f946df2e",
   "metadata": {},
   "source": [
    "### Audio Samples\n",
    "\n",
    "* also called \"utterances\""
   ]
  },
  {
   "cell_type": "code",
   "execution_count": 5,
   "id": "6e6e167f",
   "metadata": {},
   "outputs": [
    {
     "data": {
      "application/vnd.jupyter.widget-view+json": {
       "model_id": "a5dcc11a2bce4745a70f9531b4d9d06b",
       "version_major": 2,
       "version_minor": 0
      },
      "text/plain": [
       "README.md:   0%|          | 0.00/1.20k [00:00<?, ?B/s]"
      ]
     },
     "metadata": {},
     "output_type": "display_data"
    },
    {
     "data": {
      "application/vnd.jupyter.widget-view+json": {
       "model_id": "962f2f09a4694245937159b8ba3e0842",
       "version_major": 2,
       "version_minor": 0
      },
      "text/plain": [
       "data/test-00000-of-00004.parquet:   0%|          | 0.00/443M [00:00<?, ?B/s]"
      ]
     },
     "metadata": {},
     "output_type": "display_data"
    },
    {
     "data": {
      "application/vnd.jupyter.widget-view+json": {
       "model_id": "de6858b59c7d4ecfab04d24068356c44",
       "version_major": 2,
       "version_minor": 0
      },
      "text/plain": [
       "data/test-00001-of-00004.parquet:   0%|          | 0.00/293M [00:00<?, ?B/s]"
      ]
     },
     "metadata": {},
     "output_type": "display_data"
    },
    {
     "data": {
      "application/vnd.jupyter.widget-view+json": {
       "model_id": "6e06d9da8bd542c38e99a4c82caef2c6",
       "version_major": 2,
       "version_minor": 0
      },
      "text/plain": [
       "data/test-00002-of-00004.parquet:   0%|          | 0.00/222M [00:00<?, ?B/s]"
      ]
     },
     "metadata": {},
     "output_type": "display_data"
    },
    {
     "data": {
      "application/vnd.jupyter.widget-view+json": {
       "model_id": "6b40fe9b79d741e8944985afc936b5e8",
       "version_major": 2,
       "version_minor": 0
      },
      "text/plain": [
       "data/test-00003-of-00004.parquet:   0%|          | 0.00/233M [00:00<?, ?B/s]"
      ]
     },
     "metadata": {},
     "output_type": "display_data"
    },
    {
     "data": {
      "application/vnd.jupyter.widget-view+json": {
       "model_id": "e91c2516e5e64951bebe7ba7d3338cd3",
       "version_major": 2,
       "version_minor": 0
      },
      "text/plain": [
       "Generating test split:   0%|          | 0/1698 [00:00<?, ? examples/s]"
      ]
     },
     "metadata": {},
     "output_type": "display_data"
    },
    {
     "data": {
      "text/plain": [
       "Dataset({\n",
       "    features: ['audio', 'audio_id', 'speaker_id', 'language', 'prompt_type', 'prompt_id', 'recording_data', 'recording_time', 'recording_environment', 'recording_device', 'transcription', 'audio_length', 'transcript_length'],\n",
       "    num_rows: 1698\n",
       "})"
      ]
     },
     "execution_count": 5,
     "metadata": {},
     "output_type": "execute_result"
    }
   ],
   "source": [
    "dataset_name = 'cdli/kenyan_english_nonstandard_speech_v0'\n",
    "ds_en = datasets.load_dataset(dataset_name, split='test', streaming=False)\n",
    "ds_en"
   ]
  },
  {
   "cell_type": "markdown",
   "id": "40e66c33",
   "metadata": {},
   "source": [
    "#### Inspect individual samples\n",
    "\n",
    "* shows all metadata\n",
    "* also has the audio (name of file, sampling rate, loaded into array)\n",
    "* you can filter ..."
   ]
  },
  {
   "cell_type": "code",
   "execution_count": 8,
   "id": "b7b6009f",
   "metadata": {},
   "outputs": [
    {
     "data": {
      "text/plain": [
       "{'audio': {'path': 'KES001_EN001.wav',\n",
       "  'array': array([ 0.00000000e+00,  0.00000000e+00,  0.00000000e+00, ...,\n",
       "          6.10351562e-05, -9.15527344e-05,  9.15527344e-05], shape=(431616,)),\n",
       "  'sampling_rate': 16000},\n",
       " 'audio_id': 'KES001_EN001',\n",
       " 'speaker_id': 'KES001',\n",
       " 'language': 'KENG',\n",
       " 'prompt_type': 'Picture Prompt',\n",
       " 'prompt_id': 'IM_001',\n",
       " 'recording_data': '5/8/2025',\n",
       " 'recording_time': '8:55:00 am',\n",
       " 'recording_environment': 'Indoor with low Background Noise',\n",
       " 'recording_device': 'Dji mic wireless microphone',\n",
       " 'transcription': 'Like  a four star five star? Restaurant an appetizer menu serving  prawns and medium rare steak with aaa  sauce with nice presentation ',\n",
       " 'audio_length': 26.976,\n",
       " 'transcript_length': 22}"
      ]
     },
     "execution_count": 8,
     "metadata": {},
     "output_type": "execute_result"
    }
   ],
   "source": [
    "ds_en[0]"
   ]
  },
  {
   "cell_type": "code",
   "execution_count": 9,
   "id": "18bf63e2",
   "metadata": {},
   "outputs": [
    {
     "data": {
      "application/vnd.jupyter.widget-view+json": {
       "model_id": "b76e5635ecc649d5b6cdfd80d907d633",
       "version_major": 2,
       "version_minor": 0
      },
      "text/plain": [
       "Filter:   0%|          | 0/1698 [00:00<?, ? examples/s]"
      ]
     },
     "metadata": {},
     "output_type": "display_data"
    },
    {
     "data": {
      "text/plain": [
       "104"
      ]
     },
     "execution_count": 9,
     "metadata": {},
     "output_type": "execute_result"
    }
   ],
   "source": [
    "# get speaker 1 data\n",
    "ds_en_speaker1 = ds_en.filter(lambda example: example['speaker_id']=='KES001')\n",
    "len(ds_en_speaker1)\n"
   ]
  },
  {
   "cell_type": "markdown",
   "id": "a6621d55",
   "metadata": {},
   "source": [
    "#### Play Audio"
   ]
  },
  {
   "cell_type": "code",
   "execution_count": null,
   "id": "022c8a31",
   "metadata": {},
   "outputs": [],
   "source": [
    "# get audio file and transcript\n",
    "audio_data = ds_en_speaker1[0]['audio']['array']\n",
    "sample_rate = ds_en_speaker1[0]['audio']['sampling_rate']\n",
    "print('True transcript:', ds_en_speaker1[0]['transcription'])\n",
    "Audio(audio_data, rate=sample_rate)\n"
   ]
  },
  {
   "cell_type": "markdown",
   "id": "a239fa9d",
   "metadata": {},
   "source": [
    "### Speaker-Level Metadata\n",
    "\n",
    "In addition to the utterances along with their metadata, we also have some additional information on the speakers, which we can share.\n",
    "This information will be helpful later when evaluating and analyzing the data, hence you need to know how to use it.\n",
    "\n",
    "You can see the metadata as a separate file ('speaker_metadata.csv') on the HuggingFace website, eg see here:\n",
    "https://huggingface.co/datasets/cdli/kenyan_english_nonstandard_speech_v0/tree/main"
   ]
  },
  {
   "cell_type": "code",
   "execution_count": null,
   "id": "fae14f23",
   "metadata": {},
   "outputs": [],
   "source": [
    "metadata_file_path = hf_hub_download(\n",
    "        repo_id=dataset_name,\n",
    "        filename=\"speaker_metadata.csv\",\n",
    "        repo_type=\"dataset\"\n",
    "    )\n",
    "metadata_df = pd.read_csv(metadata_file_path)\n"
   ]
  },
  {
   "cell_type": "markdown",
   "id": "82ed354f",
   "metadata": {},
   "source": [
    "#### Individual Fields"
   ]
  },
  {
   "cell_type": "code",
   "execution_count": null,
   "id": "721e0fe5",
   "metadata": {},
   "outputs": [],
   "source": [
    "metadata_df.gender.value_counts().round(2)"
   ]
  },
  {
   "cell_type": "code",
   "execution_count": null,
   "id": "4f9c8bcf",
   "metadata": {},
   "outputs": [],
   "source": [
    "metadata_df.severity_speech_impairment.value_counts()"
   ]
  },
  {
   "cell_type": "code",
   "execution_count": null,
   "id": "82864425",
   "metadata": {},
   "outputs": [],
   "source": [
    "metadata_df.etiology.value_counts().round(2)"
   ]
  },
  {
   "cell_type": "code",
   "execution_count": null,
   "id": "2f00a485",
   "metadata": {},
   "outputs": [],
   "source": [
    "metadata_df.type_nonstandard_speech.value_counts().round(2)"
   ]
  },
  {
   "cell_type": "markdown",
   "id": "acd56f6d",
   "metadata": {},
   "source": [
    "#### Further analysis"
   ]
  },
  {
   "cell_type": "code",
   "execution_count": null,
   "id": "78a9aae7",
   "metadata": {},
   "outputs": [],
   "source": [
    "\n",
    "itables.show(metadata_df, column_filters=\"header\",)"
   ]
  },
  {
   "cell_type": "markdown",
   "id": "289284df",
   "metadata": {},
   "source": [
    "# Example: \n",
    "\n",
    "* lets find a speaker with severe speech impairment and speech disorder not being Stuttering\n",
    "* filter for their data and listen to a few examples\n",
    "* what are they saying ? Do you understand them ?"
   ]
  },
  {
   "cell_type": "code",
   "execution_count": null,
   "id": "7f69078d",
   "metadata": {},
   "outputs": [],
   "source": [
    "metadata_df[(metadata_df.severity_speech_impairment=='Severe (frequent breakdowns)') & (metadata_df.type_nonstandard_speech=='Dysarthria')]"
   ]
  },
  {
   "cell_type": "code",
   "execution_count": null,
   "id": "0438deba",
   "metadata": {},
   "outputs": [],
   "source": [
    "speaker_id = 'KES003'\n",
    "ds_en_selected_speaker = ds_en.filter(lambda example: example['speaker_id']==speaker_id)\n",
    "len(ds_en_selected_speaker)\n",
    "\n"
   ]
  },
  {
   "cell_type": "code",
   "execution_count": null,
   "id": "a6773679",
   "metadata": {},
   "outputs": [],
   "source": [
    "# get audio file and transcript\n",
    "\n",
    "for i in range(0,3):\n",
    "    print('>> next example')\n",
    "    audio_data = ds_en_selected_speaker[i]['audio']['array']\n",
    "    sample_rate = ds_en_selected_speaker[i]['audio']['sampling_rate']\n",
    "    print('True transcript:', ds_en_selected_speaker[i]['transcription'])\n",
    "    display(Audio(audio_data, rate=sample_rate))"
   ]
  }
 ],
 "metadata": {
  "kernelspec": {
   "display_name": "Python 3 (ipykernel)",
   "language": "python",
   "name": "python3"
  },
  "language_info": {
   "codemirror_mode": {
    "name": "ipython",
    "version": 3
   },
   "file_extension": ".py",
   "mimetype": "text/x-python",
   "name": "python",
   "nbconvert_exporter": "python",
   "pygments_lexer": "ipython3",
   "version": "3.11.5"
  }
 },
 "nbformat": 4,
 "nbformat_minor": 5
}
